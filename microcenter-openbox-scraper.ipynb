{
 "cells": [
  {
   "cell_type": "code",
   "execution_count": 1,
   "metadata": {},
   "outputs": [],
   "source": [
    "import requests\n",
    "from bs4 import BeautifulSoup\n",
    "from config import store_id, sku"
   ]
  },
  {
   "cell_type": "code",
   "execution_count": 2,
   "id": "b4f274df",
   "metadata": {},
   "outputs": [],
   "source": [
    "search_url = f'https://www.microcenter.com/search/search_results.aspx?Ntt={sku}&Ntx=mode+MatchPartial&Ntk=all&sortby=match&N=0&storeID={store_id}&Change+Store=Change+Store'"
   ]
  },
  {
   "cell_type": "code",
   "execution_count": 3,
   "id": "679eddfe",
   "metadata": {},
   "outputs": [],
   "source": [
    "# Send a GET request to fetch the page content\n",
    "response = requests.get(search_url)\n",
    "if response.status_code != 200:\n",
    "    raise Exception(f\"Failed to load page {search_url}\")\n",
    "\n",
    "# Parse the page content using BeautifulSoup\n",
    "soup = BeautifulSoup(response.content, 'html.parser')"
   ]
  },
  {
   "cell_type": "code",
   "execution_count": 4,
   "id": "f948d1d8",
   "metadata": {},
   "outputs": [],
   "source": [
    "# Display the raw HTML if needed to inspect\n",
    "#print(soup.prettify())"
   ]
  },
  {
   "cell_type": "code",
   "execution_count": 5,
   "id": "945f6122",
   "metadata": {},
   "outputs": [
    {
     "name": "stdout",
     "output_type": "stream",
     "text": [
      "Product Title: 990 PRO 2TB Samsung V NAND 3-bit MLC PCIe Gen 4 x4 NVMe M.2 Internal SSD\n",
      "Product Price: $179.99\n",
      "Product URL: https://www.microcenter.com/product/660429/samsung-990-pro-2tb-samsung-v-nand-3-bit-mlc-pcie-gen-4-x4-nvme-m2-internal-ssd?storeid=085\n",
      "Open Box Available from: $143.96\n"
     ]
    }
   ],
   "source": [
    "# Find the first product listing on the search results page\n",
    "\n",
    "product_listing = soup.find('li', class_='product_wrapper')\n",
    "\n",
    "if product_listing:\n",
    "    # Extract the product title\n",
    "    title = product_listing.find('a', class_='productClickItemV2')['data-name']\n",
    "    print(f\"Product Title: {title}\")\n",
    "\n",
    "    # Extract the price from the 'data-price' attribute\n",
    "    price = product_listing.find('a', class_='productClickItemV2')['data-price']\n",
    "    print(f\"Product Price: ${price}\")\n",
    "\n",
    "    # Extract the main product URL\n",
    "    product_url = f\"https://www.microcenter.com{product_listing.find('a', class_='productClickItemV2')['href']}?storeid={store_id}\"\n",
    "    print(f\"Product URL: {product_url}\")\n",
    "\n",
    "    # Extract the open box price from the 'clearance' div\n",
    "    clearance_section = product_listing.find('div', class_='clearance')\n",
    "    if clearance_section and clearance_section.text.strip():\n",
    "        open_box_price = clearance_section.find('strong').text.strip()\n",
    "        print(f\"Open Box Available from: {open_box_price}\")\n",
    "    else:\n",
    "        print(\"No Open Box items available.\")\n",
    "else:\n",
    "    print(\"No product found with the given SKU.\")"
   ]
  }
 ],
 "metadata": {
  "kernelspec": {
   "display_name": ".venv",
   "language": "python",
   "name": "python3"
  },
  "language_info": {
   "codemirror_mode": {
    "name": "ipython",
    "version": 3
   },
   "file_extension": ".py",
   "mimetype": "text/x-python",
   "name": "python",
   "nbconvert_exporter": "python",
   "pygments_lexer": "ipython3",
   "version": "3.11.9"
  }
 },
 "nbformat": 4,
 "nbformat_minor": 5
}
